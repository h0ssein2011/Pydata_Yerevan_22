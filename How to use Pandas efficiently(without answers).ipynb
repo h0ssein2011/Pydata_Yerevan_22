{
 "cells": [
  {
   "cell_type": "markdown",
   "metadata": {},
   "source": [
    "# <center>Pydata Yerevan 2022 : How to use Pandas Efficiently </center>\n",
    "\n",
    "### Github Repository :  <a href=\"https://bit.ly/github_repo_files\">bit.ly/github_repo_files</a>\n",
    "### Google Colab without answers : <a href=\"https://bit.ly/google_colab_file_WA\">bit.ly/google_colab_file_WA</a>\n",
    "### Google Colab with Answers :  <a href =\"https://bit.ly/google_colab_file\"> bit.ly/google_colab_file</a>\n",
    "### Survey: <a href=\"https://bit.ly/google_feedfeedback\"> bit.ly/google_feedfeedback </a>\n",
    "\n",
    "\n",
    "We will be using the following dataset for this tutorial :<br>\n",
    "- IMDB top 1000 Movie Dataset<br> https://www.kaggle.com/datasets/mysarahmadbhat/imdb-top-1000-movies\n",
    "- Bank Marketing Dataset (UCI) https://archive.ics.uci.edu/ml/datasets/bank+marketing <br>\n",
    "- Bike Sharing dataset (Kaggle) https://www.kaggle.com/datasets/yasserh/bike-sharing-dataset\n",
    "\n",
    "While you are waiting for the tutorial to start, you can go through above link to download dataset and Notebook :<br>\n",
    "N.B. : If you do not have Python installed on your system, you can use Google Colab to run the notebook.\n"
   ]
  },
  {
   "cell_type": "markdown",
   "metadata": {},
   "source": [
    "### PART 1 :Pandas Big Picture\n",
    "\n",
    "What is Pandas?<br>\n"
   ]
  },
  {
   "cell_type": "markdown",
   "metadata": {},
   "source": [
    "<img src=\"img/Excel_Vs_Pandas.jpg\" width=\"550\" height=\"200\" style =\"float:center\" >"
   ]
  },
  {
   "cell_type": "markdown",
   "metadata": {},
   "source": [
    "### Why pandas? \n",
    "-  easy to use \n",
    "-  easy to learn.\n",
    "- it is fast \n",
    "- it is a powerful data analysis toolkit\n",
    "- it is open source\n",
    "- it is supported by many developers (~3k)\n"
   ]
  },
  {
   "cell_type": "markdown",
   "metadata": {},
   "source": [
    "### Two building blocks of pandas are Series and DataFrame\n",
    "- Series: A 1D labeled data structure with rows.\n",
    "- DataFrame: A 2D labeled data structure with columns and rows.\n"
   ]
  },
  {
   "cell_type": "code",
   "execution_count": null,
   "metadata": {},
   "outputs": [],
   "source": [
    "#import required libraries\n",
    "\n"
   ]
  },
  {
   "cell_type": "code",
   "execution_count": null,
   "metadata": {},
   "outputs": [],
   "source": [
    "# read top 1000 imdb movie dataset of the dataset\n"
   ]
  },
  {
   "cell_type": "code",
   "execution_count": null,
   "metadata": {},
   "outputs": [],
   "source": [
    "#Select Rows\n"
   ]
  },
  {
   "cell_type": "code",
   "execution_count": null,
   "metadata": {},
   "outputs": [],
   "source": [
    "#Select Columns\n",
    "\n"
   ]
  },
  {
   "cell_type": "code",
   "execution_count": null,
   "metadata": {},
   "outputs": [],
   "source": [
    "# Select with iloc\n",
    "\n",
    "\n"
   ]
  },
  {
   "cell_type": "code",
   "execution_count": null,
   "metadata": {},
   "outputs": [],
   "source": [
    "# Use np.where \n",
    "\n",
    "\n"
   ]
  },
  {
   "cell_type": "code",
   "execution_count": null,
   "metadata": {},
   "outputs": [],
   "source": [
    "# use Value_Counts to counts number of rows\n"
   ]
  },
  {
   "cell_type": "code",
   "execution_count": null,
   "metadata": {},
   "outputs": [],
   "source": [
    "# check the type of the dataset / columns \n"
   ]
  },
  {
   "cell_type": "code",
   "execution_count": null,
   "metadata": {},
   "outputs": [],
   "source": [
    "# check the type of a column\n"
   ]
  },
  {
   "cell_type": "markdown",
   "metadata": {},
   "source": [
    "### some of the basic operation by Pandas\n"
   ]
  },
  {
   "cell_type": "code",
   "execution_count": null,
   "metadata": {},
   "outputs": [],
   "source": [
    "# print some basic information about the dataset\n"
   ]
  },
  {
   "cell_type": "markdown",
   "metadata": {},
   "source": [
    "### Notes:\n",
    "#### 1- Ask Questions and Answer them with Data by Pandas insetad of Jumping to the analysis without knowing the data  <br>\n",
    "#### 2- Relation does not mean causation. Here we just find the relationship is present in the data.(Causation needs more domain knowledge)  <br>\n",
    "#### 3- There more than one way to do something in Pandas. <br>\n",
    "#### 4- Data is not always clean. We need to clean it before analysis. <br>\n",
    "Q1 : What is the trend of Years in which movies are released? <br>\n",
    "Q2 : Which Genre had the highest number of movies among top 1000 movies dataset? <br>\n",
    "Q3 : What is the distribution of Duration (In every 10 minutes) in the top 1000 movies? <br>\n",
    "Q4 : what is the average duration of each genre?    <br>\n",
    "Q5 : Was there an increase of Votes over the time ? <br>\n",
    "Q6 : For each year what was the average rating and the maximum of Meta score? <br>\n",
    "\n",
    "\n",
    "#### Practice 1:\n",
    "How many of movies got rating between 7.5 and 8.5? (Hint:use value_counts() method) <br>\n",
    "What is trend of Gross Earning over the years? (Hint: use groupby() method) <br>\n",
    "what is the distibution of meta score in every 10 points? (Hint: use cut() method) <br>\n",
    "How many cast are there in each movei? (Hint: use apply() method) <br>"
   ]
  },
  {
   "cell_type": "code",
   "execution_count": null,
   "metadata": {},
   "outputs": [],
   "source": [
    "#What is the trend of Years in which movies are released?\n"
   ]
  },
  {
   "cell_type": "code",
   "execution_count": null,
   "metadata": {},
   "outputs": [],
   "source": [
    "#Which Genre had the highest number of movies among top 1000 movies dataset? \n"
   ]
  },
  {
   "cell_type": "code",
   "execution_count": null,
   "metadata": {},
   "outputs": [],
   "source": [
    "# What is the distribution of Duration (In every 10 minutes) in the top 1000 movies?\n",
    "# way 1:\n",
    "bins = [60,70,80,90,100,110,120,130,140,150,160,170,180,190,200,210,220,230,240,250]\n",
    "labels = ['60-70','70-80','80-90','90-100','100-110','110-120','120-130','130-140','140-150','150-160','160-170','170-180','180-190','190-200','200-210','210-220','220-230','230-240','240-250']\n"
   ]
  },
  {
   "cell_type": "code",
   "execution_count": null,
   "metadata": {},
   "outputs": [],
   "source": [
    "# way 2: using math function\n"
   ]
  },
  {
   "cell_type": "code",
   "execution_count": null,
   "metadata": {},
   "outputs": [],
   "source": [
    "# what is the average duration of each genre?\n"
   ]
  },
  {
   "cell_type": "code",
   "execution_count": null,
   "metadata": {},
   "outputs": [],
   "source": [
    "# Was there an increase of Votes over the time ? \n"
   ]
  },
  {
   "cell_type": "code",
   "execution_count": null,
   "metadata": {},
   "outputs": [],
   "source": [
    "# For each year what was the average rating and the maximum of Meta score?\n"
   ]
  },
  {
   "cell_type": "code",
   "execution_count": null,
   "metadata": {},
   "outputs": [],
   "source": [
    "# For each year what was the average rating and the maximum of Meta score?(with Pivot table) \n"
   ]
  },
  {
   "cell_type": "markdown",
   "metadata": {},
   "source": [
    "### Part II : How to use Pandas More effiently"
   ]
  },
  {
   "cell_type": "markdown",
   "metadata": {},
   "source": [
    "### 95% of people use this kind of code style but only 5% of people know how to use it more efficiently.!"
   ]
  },
  {
   "cell_type": "markdown",
   "metadata": {},
   "source": [
    "<img src=\"img/Screenshot1.jpg\" width=\"750\" height=\"500\" style =\"float:middle\" ><br>\n",
    "<br>\n",
    "<img src=\"img/Screenshot2.jpg\" width=\"750\" height=\"500\" style =\"float:left\" >\n"
   ]
  },
  {
   "cell_type": "markdown",
   "metadata": {},
   "source": [
    "### Use chaining instead of classic coding\n",
    " ### what is Chainning?\n",
    " Chaining allows you to express the idea of data flowing through a pipeline almost 1-to-1 into your code, making your code more readable both for yourself and for others. <br>\n",
    "<br>\n",
    "<img src=\"img/Chaining.png\" width=\"750\" height=\"200\"> <br>\n",
    "*source :www.aaa-riskfinance.es/publicaties/chaining-in-python-and-r/\n",
    "\n",
    "\n",
    "#### 1- Benefit of usnig chaining in your codes\n",
    "- It is more readable and understandable\n",
    "- It can save you a lot of time\n",
    "- It is more pythonic \n",
    "- It is more fun!\n"
   ]
  },
  {
   "cell_type": "code",
   "execution_count": null,
   "metadata": {},
   "outputs": [],
   "source": [
    "# read bank dataset\n",
    "\n"
   ]
  },
  {
   "cell_type": "markdown",
   "metadata": {},
   "source": [
    "nput variables:<br>\n",
    "**bank client data:**<br>\n",
    "1 - age (numeric) <br>\n",
    "2 - job : type of job (categorical: 'admin.','blue-collar','entrepreneur','housemaid','management','retired','self-employed','services','student','technician','unemployed','unknown')<br>\n",
    "3 - marital : marital status (categorical: 'divorced','married','single','unknown'; note: 'divorced' means divorced or widowed)<br>\n",
    "4 - education (categorical: 'basic.4y','basic.6y','basic.9y','high.school','illiterate','professional.course','university.degree','unknown')<br>\n",
    "5 - default: has credit in default? (categorical: 'no','yes','unknown')<br>\n",
    "6 - housing: has housing loan? (categorical: 'no','yes','unknown')<br>\n",
    "7 - loan: has personal loan? (categorical: 'no','yes','unknown')<br>\n",
    "\n",
    "**related with the last contact of the current campaign:**<br>\n",
    "8 - contact: contact communication type (categorical: 'cellular','telephone')<br>\n",
    "9 - month: last contact month of year (categorical: 'jan', 'feb', 'mar', ..., 'nov', 'dec')<br>\n",
    "10 - day_of_week: last contact day of the week (categorical: 'mon','tue','wed','thu','fri')<br>\n",
    "11 - duration: last contact duration, in seconds (numeric). Important note: this attribute highly affects the output target (e.g., if duration=0 then y='no'). Yet, the duration is not known before a call is performed. Also, after the end of the call y is obviously known. Thus, this input should only be included for benchmark purposes and should be discarded if the intention is to have a realistic predictive model.\n",
    "\n",
    "**other attributes:**   <br>\n",
    "12 - campaign: number of contacts performed during this campaign and for this client (numeric, includes last contact)<br>\n",
    "13 - pdays: number of days that passed by after the client was last contacted from a previous campaign (numeric; 999 means client was not previously contacted)<br>\n",
    "14 - previous: number of contacts performed before this campaign and for this client (numeric)<br>\n",
    "15 - poutcome: outcome of the previous marketing campaign (categorical: 'failure','nonexistent','success')<br>\n",
    "\n",
    "**social and economic context attributes**<br>\n",
    "16 - emp.var.rate: employment variation rate - quarterly indicator (numeric)<br>\n",
    "17 - cons.price.idx: consumer price index - monthly indicator (numeric)<br>\n",
    "18 - cons.conf.idx: consumer confidence index - monthly indicator (numeric)<br>\n",
    "19 - euribor3m: euribor 3 month rate - daily indicator (numeric)<br>\n",
    "20 - nr.employed: number of employees - quarterly indicator (numeric)<br>\n",
    "\n",
    "**Output variable (desired target):**<br>\n",
    "21 - y - has the client subscribed a term deposit? (binary: 'yes','no')<br>"
   ]
  },
  {
   "cell_type": "code",
   "execution_count": null,
   "metadata": {},
   "outputs": [],
   "source": [
    "# sample of using chaining methods to get the result in differnt lines seprated by . \n"
   ]
  },
  {
   "cell_type": "markdown",
   "metadata": {},
   "source": [
    "# Again Ask Questions and Answer them with Data by Pandas\n",
    "Q1 : What is the distribution of age(in every decade in data set? <br>\n",
    "Q2 : Is there relation between age group and balance? <br>\n",
    "Q3 : Is there relation between marital status and balance? <br>\n",
    "Q4 : Is there relation between education and balance? <br>\n",
    "Q5 : Is there relation between occupation and balance? <br>\n",
    "Q6 : Which job had more default? <br>\n",
    "Q7 : Which education level had more balance? <br>\n",
    "\n"
   ]
  },
  {
   "cell_type": "code",
   "execution_count": null,
   "metadata": {},
   "outputs": [],
   "source": [
    "# clean the dataset function\n"
   ]
  },
  {
   "cell_type": "code",
   "execution_count": null,
   "metadata": {},
   "outputs": [],
   "source": [
    "# get null values\n"
   ]
  },
  {
   "cell_type": "code",
   "execution_count": null,
   "metadata": {},
   "outputs": [],
   "source": [
    "# clean the dataset function with fillna and assign\n"
   ]
  },
  {
   "cell_type": "code",
   "execution_count": null,
   "metadata": {},
   "outputs": [],
   "source": [
    "# Answer following questions with the cleaned dataset and chained methods:\n",
    "bins=[0,20,30,40,50,60,70,80,90,100]\n",
    "labels=['0-20','20-30','30-40','40-50','50-60','60-70','70-80','80-90','90-100']\n",
    "\n",
    "(\n",
    "# Q1 : What is the distribution of age(in every decade in data set? \n",
    "    \n",
    "\n",
    "\n",
    "# Q2 : What is the relation between age group and balance? \n",
    "\n",
    "\n",
    "#Q3 : What is the relation between marital status and balance? \n",
    "\n",
    "\n",
    "\n",
    "# Q4 : What is the relation between education and balance? \n",
    "\n",
    "\n",
    "# Q5 : What is the relation between job and balance? \n",
    "\n",
    "\n",
    "# Q6 :  Which job had more default? \n",
    "\n",
    "\n",
    "# Q7 : Which education level had more default?\n",
    "\n",
    "\n",
    ")\n"
   ]
  },
  {
   "cell_type": "markdown",
   "metadata": {},
   "source": [
    "### USE QUERY INSIDE PANDAS\n",
    "when we have a lot of conditions, we can use query method to make our code more readable and efficient. <br>"
   ]
  },
  {
   "cell_type": "markdown",
   "metadata": {},
   "source": [
    "### Q1: select rows  with balance between 10000 and 20000"
   ]
  },
  {
   "cell_type": "code",
   "execution_count": null,
   "metadata": {},
   "outputs": [],
   "source": [
    "# select rows  with balance between 10000 and 20000\n",
    "(\n",
    ")"
   ]
  },
  {
   "cell_type": "code",
   "execution_count": null,
   "metadata": {},
   "outputs": [],
   "source": [
    "# Select rows with balance between 10000 and 20000 and age between 30 and 40 and job is admin or management\n",
    "(\n",
    ")"
   ]
  },
  {
   "cell_type": "code",
   "execution_count": null,
   "metadata": {},
   "outputs": [],
   "source": [
    "## Parctice: Select rows with age between 30 and 40 and job is admin or management and had default"
   ]
  },
  {
   "cell_type": "markdown",
   "metadata": {},
   "source": [
    "#### Simplify Join in Pandas"
   ]
  },
  {
   "cell_type": "markdown",
   "metadata": {},
   "source": [
    "<img src='img/SQL_JOINS_V2.png'>"
   ]
  },
  {
   "cell_type": "markdown",
   "metadata": {},
   "source": [
    "#### Concat\n",
    "#### Merge\n",
    "#### Join"
   ]
  },
  {
   "cell_type": "code",
   "execution_count": null,
   "metadata": {},
   "outputs": [],
   "source": [
    "# read Bike Sharing Dataset\n"
   ]
  },
  {
   "cell_type": "code",
   "execution_count": null,
   "metadata": {},
   "outputs": [],
   "source": [
    "# read Calendar Dataset\n"
   ]
  },
  {
   "cell_type": "code",
   "execution_count": null,
   "metadata": {},
   "outputs": [],
   "source": [
    "# read Weather Dataset\n"
   ]
  },
  {
   "cell_type": "markdown",
   "metadata": {},
   "source": [
    "### use Merge to combine two dataframes Then: <br>\n",
    "\n",
    "Answer the following questions: <br>\n",
    "Q1 : What is the trend of bike demand over years? <br>\n",
    "Q2 : Which month(in the whole dataset) had the highest demand for Bikes? <br>\n",
    "Practice 2 : Is there any relation between temprature and Bike demand? <br>\n",
    "Practice 3 : Does Holiday affect demand or not? <br>\n",
    "Practice 4 : Does weathersit affect demand or not? <br>"
   ]
  },
  {
   "cell_type": "code",
   "execution_count": null,
   "metadata": {},
   "outputs": [],
   "source": [
    "# Merge Bike_demand and Calendar_date and Weather_data on date\n",
    "(\n",
    "# Q1 : What is the trend of bike demand over years? \n",
    "\n",
    "\n",
    "# Which month had the highest demand for Bikes? \n",
    "\n",
    "# Practice 2 : Is there any relation between temprature and Bike demand? \n",
    "\n",
    "# Practice 3 : Does Holiday affect demand or not \n",
    "\n",
    "# Practice 4 : Does weathersit affect demand or not? \n",
    "\n",
    ")"
   ]
  },
  {
   "cell_type": "markdown",
   "metadata": {},
   "source": [
    "### Use concat to combine two dataframes"
   ]
  },
  {
   "cell_type": "code",
   "execution_count": null,
   "metadata": {},
   "outputs": [],
   "source": [
    "# Create a new dataframe for 2018 data\n"
   ]
  },
  {
   "cell_type": "code",
   "execution_count": null,
   "metadata": {},
   "outputs": [],
   "source": [
    "# Create a new dataframe for 2019 data\n"
   ]
  },
  {
   "cell_type": "code",
   "execution_count": null,
   "metadata": {},
   "outputs": [],
   "source": [
    "# Concat 2018 and 2019 dataframes into a single dataframe\n"
   ]
  },
  {
   "cell_type": "markdown",
   "metadata": {},
   "source": [
    "### Other useful methods\n",
    "Here I will bring some useful methods that I use them in my daily work. <br>\n",
    "\n",
    "- isin() -->  isin() method is used to filter data based on a condition. <br>\n",
    "- str.contains() --> str.contains() method is used to filter data based on a condition. <br>\n",
    "- np.where() --> np.where() method is used to filter data based on a condition. <br>\n",
    "- apply() --> apply() method is used to apply a function on a column. <br>\n",
    "- map() --> map() method is used to map a value to another value. <br>\n",
    "- unique() --> unique() method is used to get unique values in a column. <br>\n",
    "- nunique() --> nunique() method is used to get number of unique values in a column. <br>\n",
    "- value_counts() --> value_counts() method is used to get number of unique values in a column. <br>\n",
    "- sort_values() --> sort_values() method is used to sort values in a column. <br>\n",
    "- sort_index() --> sort_index() method is used to sort index in a column. <br>\n",
    "- drop_duplicates() --> drop_duplicates() method is used to drop duplicates in a column. <br>\n",
    "- dropna() --> dropna() method is used to drop null values in a column. <br>\n",
    "- fillna() --> fillna() method is used to fill null values in a column. <br>\n",
    "- loc,iloc --> loc,iloc method is used to filter data based on a condition. <br>\n",
    "..."
   ]
  },
  {
   "cell_type": "code",
   "execution_count": null,
   "metadata": {},
   "outputs": [],
   "source": [
    "\n",
    "# Bike_demand_new = (bike.\n",
    "# .merge(Calendar_date, on='dteday')\n",
    "# .merge(Weather_data, on='dteday')\n",
    "# .assign(date = lambda df_: pd.to_datetime(df_.dteday, format='%d-%m-%Y')\n",
    "# #np.where sample\n",
    "# ,season_string = lambda df_: np.where(df_.season == 1, 'spring', np.where(df_.season == 2, 'summer', np.where(df_.season == 3, 'fall', 'winter')))\n",
    "# )\n",
    "# )\n",
    "#isin() sample\n",
    "# select month Jan,feb , march\n",
    "# Bike_demand_new.loc[Bike_demand_new.date.dt.month.isin((1,2,3)),:]\n",
    "\n",
    "#unique() sample\n",
    "# Bike_demand_new.weathersit.unique()\n",
    "\n",
    "#nunique() sample\n",
    "# Bike_demand_new.weathersit.nunique()\n"
   ]
  }
 ],
 "metadata": {
  "kernelspec": {
   "display_name": "Python 3.8.10 64-bit",
   "language": "python",
   "name": "python3"
  },
  "language_info": {
   "codemirror_mode": {
    "name": "ipython",
    "version": 3
   },
   "file_extension": ".py",
   "mimetype": "text/x-python",
   "name": "python",
   "nbconvert_exporter": "python",
   "pygments_lexer": "ipython3",
   "version": "3.8.9"
  },
  "orig_nbformat": 4,
  "vscode": {
   "interpreter": {
    "hash": "31f2aee4e71d21fbe5cf8b01ff0e069b9275f58929596ceb00d14d90e3e16cd6"
   }
  }
 },
 "nbformat": 4,
 "nbformat_minor": 2
}
